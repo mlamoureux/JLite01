{
  "metadata": {
    "kernelspec": {
      "name": "python",
      "display_name": "Python (Pyodide)",
      "language": "python"
    },
    "language_info": {
      "codemirror_mode": {
        "name": "python",
        "version": 3
      },
      "file_extension": ".py",
      "mimetype": "text/x-python",
      "name": "python",
      "nbconvert_exporter": "python",
      "pygments_lexer": "ipython3",
      "version": "3.8"
    }
  },
  "nbformat_minor": 4,
  "nbformat": 4,
  "cells": [
    {
      "cell_type": "code",
      "source": "%pip install anywidget",
      "metadata": {
        "trusted": true
      },
      "outputs": [],
      "execution_count": null
    },
    {
      "cell_type": "code",
      "source": "import anywidget\nimport traitlets\nfrom ipywidgets import FloatSlider",
      "metadata": {
        "trusted": true
      },
      "outputs": [],
      "execution_count": null
    },
    {
      "cell_type": "code",
      "source": "## Create the humidity widget class, which communicates with the Phidget devices.\n\nclass humidity_widget(anywidget.AnyWidget):\n    _esm = \"\"\"\n\nimport {USBConnection, HumiditySensor} from \"https://esm.sh/phidget22@3.17\";\n\nexport function render({ model, el }) {\n    var conn = 0; // the USB connection\n    var chan = 0; // the channel for the device\n    var isOpen = false;\n    var connOpen = false;\n    var chanOpen = false;\n\n    async function openUSB() {\n        if (conn) {\n            try {await chan.close();} catch {}\n            try {await conn.close();} catch {}\n            try {await conn.delete();} catch {}\n        }\n        conn = new USBConnection();\n        chan = new HumiditySensor();\n        chan.onHumidityChange = function(value) {\n            textValue.innerHTML = 'Humidity is ' + value;\n            model.set('value', value);\n            model.save_changes();\n       \t};\n        chan.onAttach = async () => {\n            textStatus.innerHTML = 'Attached. ';\n            await chan.setDataInterval(250);\n        }\n\n        connOpen = true;\n        try {console.log('conn connect'); await conn.connect();} \n            catch(err) {console.log('connect error ' + err); connOpen = false;}\n        try {console.log('conn request'); await conn.requestWebUSBDeviceAccess();} \n            catch(err) {console.log('request error ' + err); connOpen = false;}\n        if (connOpen) {\n            chanOpen = false;\n            try {\n                await chan.open(5000);\n                chanOpen = true;\n            } catch(err) {chanOpen = false;}\n        }\n        \n        // now let the UI reflect the status of the connections\n        if (connOpen && chanOpen) {\n            isOpen = true;\n            textStatus.innerHTML = 'USB connected, channel open. ';\n            button.innerHTML = `Click to disconnect`;\n        }\n        if (connOpen && !chanOpen) {\n            isOpen = false;\n            textStatus.innerHTML = 'USB connected, channel not open. ';\n            button.innerHTML = `Click to connect`;\n        }\n        if (!connOpen) {\n            isOpen = false;\n            textStatus.innerHTML = 'USB did not connect. ';\n            button.innerHTML = `Click to connect`;        \n        }\n    };\n    async function closeUSB() {\n        try {await chan.close();} catch {}\n        try {await conn.close();} catch {}\n        try {await conn.delete();} catch {}\n        isOpen = false; \n        connOpen = false;\n        chanOpen = false;\n        textStatus.innerHTML = 'Disconnected. ';\n        textValue.innerHTML = 'Humidity is null. ';\n        button.innerHTML = `Click to connect`;\n    };\n    \n    // here we define the user interface, a button and two text boxes\n    let button = document.createElement(\"button\");\n    button.classList.add(\"ph-button\");\n    button.innerHTML = `Click to open USB`;\n    button.addEventListener(\"click\", async () => {\n        if (isOpen) {closeUSB();} else {openUSB();}\n    });\n    let textStatus = document.createElement(\"label\");\n    textStatus.innerHTML = 'Status message here. ';\n    let textValue = document.createElement(\"label\");\n    textValue.innerHTML = 'Humidity is null. ';\n    \n    // Post the UI into the Jupyter notebook cell\n    el.appendChild(button);\n    el.appendChild(textStatus);\n    el.appendChild(textValue);\n    \n    // we include a return function to close the Phidget when the notebook is closed\n    return closeUSB();\n  }\n    \"\"\"\n    _css = \"\"\"\n    .ph-button {color: white; \n        background-color:rgb(96, 107, 174); \n        border-radius: 8px; \n        font-size: 24px; \n        display: block;\n        padding: 15px 32px;}\n    .ph-button:hover { background-color:rgb(120, 128, 187); }  \n    \"\"\"\n    value = traitlets.Float(0).tag(sync=True)",
      "metadata": {
        "trusted": true
      },
      "outputs": [],
      "execution_count": null
    },
    {
      "cell_type": "code",
      "source": "## Create the humidity widget and link it to a slider, representing the humidity level.\n\nphidget = humidity_widget()\ngauge = FloatSlider(min=20,max=80.0,orientation='horizontal',description = 'Humidity')\ndef updateGauge(change):\n    gauge.value = change.new\n\nphidget.observe(updateGauge, names=['value'])",
      "metadata": {
        "trusted": true
      },
      "outputs": [],
      "execution_count": null
    },
    {
      "cell_type": "code",
      "source": "## Display the humidity widget and the slider. \n\ndisplay(phidget,gauge)",
      "metadata": {
        "trusted": true
      },
      "outputs": [],
      "execution_count": null
    },
    {
      "cell_type": "code",
      "source": "",
      "metadata": {
        "trusted": true
      },
      "outputs": [],
      "execution_count": null
    }
  ]
}
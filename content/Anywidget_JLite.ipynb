{
 "cells": [
  {
   "cell_type": "markdown",
   "id": "3f7b8cef-5af6-486b-8e11-4487631a8871",
   "metadata": {},
   "source": [
    "## Anywidget test\n",
    "\n",
    "This code is meant to run in JupyterLite. Try it on this server: \n",
    "https://mlamoureux.github.io/JLite01/lab/index.html"
   ]
  },
  {
   "cell_type": "code",
   "execution_count": null,
   "id": "583f0d10-0e18-48f7-bfbe-02c48001a993",
   "metadata": {},
   "outputs": [],
   "source": [
    "%pip install anywidget"
   ]
  },
  {
   "cell_type": "code",
   "execution_count": null,
   "id": "b3961461-8eba-4595-b453-81dfb991358a",
   "metadata": {},
   "outputs": [],
   "source": [
    "import anywidget\n",
    "import traitlets"
   ]
  },
  {
   "cell_type": "code",
   "execution_count": null,
   "id": "04215574-5a29-4a61-bd95-d8f03b1a8508",
   "metadata": {},
   "outputs": [],
   "source": [
    "class ExampleWidget(anywidget.AnyWidget):\n",
    "    _esm = \"\"\"\n",
    "    export function render({ model, el }) {\n",
    "        el.classList.add(\"custom-widget\");\n",
    "        function valueChanged() {\n",
    "            el.textContent = model.get(\"value\");\n",
    "        }\n",
    "        valueChanged();\n",
    "        model.on(\"change:value\", valueChanged);\n",
    "    }\n",
    "    \"\"\"\n",
    "    _css = \"\"\"\n",
    "    .custom-widget {\n",
    "        background-color: lightseagreen;\n",
    "        padding: 0px 2px;\n",
    "    }\n",
    "    \"\"\"\n",
    "    value = traitlets.Unicode(\"Hello World\").tag(sync=True)\n",
    "\n",
    "ExampleWidget()"
   ]
  },
  {
   "cell_type": "code",
   "execution_count": null,
   "id": "c94ba133-9bee-48b4-9047-083a6b7ba9a6",
   "metadata": {},
   "outputs": [],
   "source": [
    "class CounterWidget(anywidget.AnyWidget):\n",
    "    _esm = \"\"\"\n",
    "    export function render({ model, el }) {\n",
    "      let getCount = () => model.get(\"count\");\n",
    "      let button = document.createElement(\"button\");\n",
    "      button.classList.add(\"counter-button\");\n",
    "      button.innerHTML = `count is ${getCount()}`;\n",
    "      \n",
    "      button.addEventListener(\"click\", () => {\n",
    "        model.set(\"count\", getCount() + 1);\n",
    "        model.save_changes();\n",
    "      });\n",
    "      model.on(\"change:count\", () => {\n",
    "        button.innerHTML = `count is ${getCount()}`;\n",
    "      });\n",
    "      el.appendChild(button);\n",
    "    }\n",
    "    \"\"\"\n",
    "    _css=\"\"\"\n",
    "    .counter-button { background-color: #ea580c; }\n",
    "    .counter-button:hover { background-color: #9a3412; }\n",
    "    \"\"\"\n",
    "    count = traitlets.Int(0).tag(sync=True)\n",
    "\n",
    "counter = CounterWidget()\n",
    "counter.count = 42\n",
    "\n",
    "counter"
   ]
  },
  {
   "cell_type": "code",
   "execution_count": null,
   "id": "b08fc332-0914-4082-b780-a2b60142c580",
   "metadata": {},
   "outputs": [],
   "source": []
  }
 ],
 "metadata": {
  "kernelspec": {
   "display_name": "Python 3 (ipykernel)",
   "language": "python",
   "name": "python3"
  },
  "language_info": {
   "codemirror_mode": {
    "name": "ipython",
    "version": 3
   },
   "file_extension": ".py",
   "mimetype": "text/x-python",
   "name": "python",
   "nbconvert_exporter": "python",
   "pygments_lexer": "ipython3",
   "version": "3.11.6"
  }
 },
 "nbformat": 4,
 "nbformat_minor": 5
}
